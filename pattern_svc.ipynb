{
 "cells": [
  {
   "cell_type": "code",
   "execution_count": 13,
   "metadata": {},
   "outputs": [],
   "source": [
    "import pandas as pd\n",
    "import warnings\n",
    "warnings.filterwarnings('ignore')\n",
    "from sklearn.svm import LinearSVC\n",
    "from sklearn.svm import SVC\n",
    "from sklearn.naive_bayes import MultinomialNB\n",
    "from sklearn.model_selection import KFold\n",
    "from sklearn.feature_extraction.text import TfidfTransformer\n",
    "from sklearn.feature_extraction.text import CountVectorizer\n",
    "from sklearn.feature_extraction.text import TfidfVectorizer\n",
    "from sklearn.metrics import accuracy_score, confusion_matrix\n",
    "from sklearn.model_selection import train_test_split\n",
    "from sklearn.pipeline import Pipeline\n",
    "from sklearn.metrics import classification_report\n",
    "from sklearn.metrics import f1_score\n",
    "from sklearn.metrics import precision_score\n",
    "from sklearn.metrics import recall_score\n",
    "\n",
    "import re\n",
    "from bnlp import BasicTokenizer\n",
    "from bnlp.corpus import stopwords\n",
    "from bnlp.corpus import punctuations"
   ]
  },
  {
   "cell_type": "code",
   "execution_count": 21,
   "metadata": {},
   "outputs": [],
   "source": [
    "df=pd.read_excel('updated_data.xlsx')\n",
    "df = df.sample(frac=1)"
   ]
  },
  {
   "cell_type": "code",
   "execution_count": 109,
   "metadata": {},
   "outputs": [
    {
     "name": "stdout",
     "output_type": "stream",
     "text": [
      "Non Abusive =  5964\n",
      "Abusive     =  4254\n"
     ]
    }
   ],
   "source": [
    "a = df[df['isAbusive'] == 0]['isAbusive'].value_counts()[0]\n",
    "b = df[df['isAbusive'] == 1]['isAbusive'].value_counts()[1]\n",
    "\n",
    "print('Non Abusive = ', a)\n",
    "print('Abusive     = ', b)"
   ]
  },
  {
   "cell_type": "code",
   "execution_count": 110,
   "metadata": {},
   "outputs": [
    {
     "data": {
      "text/plain": [
       "<BarContainer object of 2 artists>"
      ]
     },
     "execution_count": 110,
     "metadata": {},
     "output_type": "execute_result"
    },
    {
     "data": {
      "image/png": "[encoded data removed]",
      "text/plain": [
       "<Figure size 432x288 with 1 Axes>"
      ]
     },
     "metadata": {
      "needs_background": "light"
     },
     "output_type": "display_data"
    }
   ],
   "source": [
    "import matplotlib.pyplot as plt\n",
    "\n",
    "data = {'abusive':b, 'non-abusive':a}\n",
    "\n",
    "classes = list(data.keys())\n",
    "values = list(data.values())\n",
    "\n",
    "plt.bar(classes, values, color ='#7a998e',width = 0.4)"
   ]
  },
  {
   "cell_type": "code",
   "execution_count": 3,
   "metadata": {},
   "outputs": [],
   "source": [
    "# removing mentions, links, tags\n",
    "\n",
    "def removing_mentions(text):\n",
    "    text = re.sub(r'@[A-Za-z0-9]+', '', text)     # removing @mentions\n",
    "    text = re.sub(r'@[A-Za-zA-Z0-9]+', '', text)  # removing @mentions \n",
    "    text = re.sub(r'@[A-Za-z]+', '', text)        # removing @mentions\n",
    "    text = re.sub(r'@[-)]+', '', text)            # removing @mentions\n",
    "\n",
    "    return text\n",
    "\n",
    "def removeing_links(text):\n",
    "    text = re.sub(r'https?\\/\\/\\S+', '', text)     # removing the hyper link\n",
    "    text = re.sub(r'http?\\/\\/\\S+', '', text)     # removing the hyper link\n",
    "    \n",
    "    return text\n",
    "\n",
    "def removing_tags(text):\n",
    "    text = re.sub(r'#', '', text )              # removing '#' sign\n",
    "    text = re.sub(r'RT[\\s]+', '', text)         # removing RT\n",
    "    text = re.sub(r'&[a-z;]+', '', text)        # removing '&gt;'\n",
    "    \n",
    "    return text"
   ]
  },
  {
   "cell_type": "code",
   "execution_count": 7,
   "metadata": {},
   "outputs": [],
   "source": [
    "# removing stopwords\n",
    "\n",
    "def remove_stopwords(text):\n",
    "    tokenizer = BasicTokenizer()\n",
    "    words = tokenizer.tokenize(text)\n",
    "    filtered_words = [w for w in words if not w in stopwords]\n",
    "\n",
    "    str = \" \"\n",
    "    return str.join(filtered_words)"
   ]
  },
  {
   "cell_type": "code",
   "execution_count": 8,
   "metadata": {},
   "outputs": [
    {
     "name": "stdout",
     "output_type": "stream",
     "text": [
      "Some Bangla Stopwords...\n",
      "['অবশ্য', 'অর্থাত', 'আই', 'আগামী', 'আগে', 'আগেই', 'আছে', 'আজ', 'আদ্যভাগে', 'আপনার']\n"
     ]
    }
   ],
   "source": [
    "print(\"Some Bangla Stopwords...\")\n",
    "print(stopwords[10:20])"
   ]
  },
  {
   "cell_type": "code",
   "execution_count": 9,
   "metadata": {},
   "outputs": [],
   "source": [
    "#removing punctuation\n",
    "\n",
    "def remove_punctuations(text):\n",
    "    tokenizer = BasicTokenizer()\n",
    "    words = tokenizer.tokenize(text)\n",
    "    punct_list = tokenizer.tokenize(punctuations)\n",
    "    filtered_words = [w for w in words if not w in punct_list]\n",
    "    \n",
    "    str = \" \"\n",
    "    return str.join(filtered_words)"
   ]
  },
  {
   "cell_type": "code",
   "execution_count": 10,
   "metadata": {},
   "outputs": [
    {
     "name": "stdout",
     "output_type": "stream",
     "text": [
      "some Punctuations...\n",
      "['!', '\"', '#', '$', '%', '&', \"'\", '(', ')', '*', '+', ',', '-', '.', '/', ':', ';', '<', '=', '>', '?', '@', '[', '\\\\', ']', '^', '_', '`', '{', '|', '}', '~', '।', 'ঃ']\n"
     ]
    }
   ],
   "source": [
    "print(\"some Punctuations...\")\n",
    "print(BasicTokenizer().tokenize(punctuations))"
   ]
  },
  {
   "cell_type": "code",
   "execution_count": 23,
   "metadata": {},
   "outputs": [
    {
     "name": "stdout",
     "output_type": "stream",
     "text": [
      "before preprocessing\n"
     ]
    },
    {
     "data": {
      "text/html": [
       "<div>\n",
       "<style scoped>\n",
       "    .dataframe tbody tr th:only-of-type {\n",
       "        vertical-align: middle;\n",
       "    }\n",
       "\n",
       "    .dataframe tbody tr th {\n",
       "        vertical-align: top;\n",
       "    }\n",
       "\n",
       "    .dataframe thead th {\n",
       "        text-align: right;\n",
       "    }\n",
       "</style>\n",
       "<table border=\"1\" class=\"dataframe\">\n",
       "  <thead>\n",
       "    <tr style=\"text-align: right;\">\n",
       "      <th></th>\n",
       "      <th>comment_text</th>\n",
       "      <th>isAbusive</th>\n",
       "    </tr>\n",
       "  </thead>\n",
       "  <tbody>\n",
       "    <tr>\n",
       "      <th>4370</th>\n",
       "      <td>কাকু মাজে মধ্যে এমন কথা ভলে কাকু নিজেও জানে না...</td>\n",
       "      <td>0</td>\n",
       "    </tr>\n",
       "    <tr>\n",
       "      <th>9492</th>\n",
       "      <td>কিছুক্ষণ ভাবার টাইম অন্তত পাওয়া গেলো</td>\n",
       "      <td>0</td>\n",
       "    </tr>\n",
       "    <tr>\n",
       "      <th>6798</th>\n",
       "      <td>উঁহু</td>\n",
       "      <td>0</td>\n",
       "    </tr>\n",
       "    <tr>\n",
       "      <th>4351</th>\n",
       "      <td>মতের আর মূল্য কৈ ?</td>\n",
       "      <td>0</td>\n",
       "    </tr>\n",
       "    <tr>\n",
       "      <th>4583</th>\n",
       "      <td>সে কোন দেশের লোক?</td>\n",
       "      <td>0</td>\n",
       "    </tr>\n",
       "  </tbody>\n",
       "</table>\n",
       "</div>"
      ],
      "text/plain": [
       "                                           comment_text  isAbusive\n",
       "4370  কাকু মাজে মধ্যে এমন কথা ভলে কাকু নিজেও জানে না...          0\n",
       "9492               কিছুক্ষণ ভাবার টাইম অন্তত পাওয়া গেলো          0\n",
       "6798                                               উঁহু          0\n",
       "4351                                 মতের আর মূল্য কৈ ?          0\n",
       "4583                                  সে কোন দেশের লোক?          0"
      ]
     },
     "execution_count": 23,
     "metadata": {},
     "output_type": "execute_result"
    }
   ],
   "source": [
    "print(\"Before preprocessing\")\n",
    "df[df['isAbusive'] == 0][['comment_text', 'isAbusive']].head()"
   ]
  },
  {
   "cell_type": "code",
   "execution_count": 25,
   "metadata": {},
   "outputs": [],
   "source": [
    "df['comment_text'] = df['comment_text'].apply(removing_mentions)\n",
    "df['comment_text'] = df['comment_text'].apply(removeing_links)\n",
    "df['comment_text'] = df['comment_text'].apply(removing_tags)\n",
    "df['comment_text'] = df['comment_text'].apply(remove_stopwords)\n",
    "df['comment_text'] = df['comment_text'].apply(remove_punctuations)"
   ]
  },
  {
   "cell_type": "code",
   "execution_count": 26,
   "metadata": {},
   "outputs": [
    {
     "name": "stdout",
     "output_type": "stream",
     "text": [
      "After preprocessing\n"
     ]
    },
    {
     "data": {
      "text/html": [
       "<div>\n",
       "<style scoped>\n",
       "    .dataframe tbody tr th:only-of-type {\n",
       "        vertical-align: middle;\n",
       "    }\n",
       "\n",
       "    .dataframe tbody tr th {\n",
       "        vertical-align: top;\n",
       "    }\n",
       "\n",
       "    .dataframe thead th {\n",
       "        text-align: right;\n",
       "    }\n",
       "</style>\n",
       "<table border=\"1\" class=\"dataframe\">\n",
       "  <thead>\n",
       "    <tr style=\"text-align: right;\">\n",
       "      <th></th>\n",
       "      <th>comment_text</th>\n",
       "      <th>isAbusive</th>\n",
       "    </tr>\n",
       "  </thead>\n",
       "  <tbody>\n",
       "    <tr>\n",
       "      <th>4370</th>\n",
       "      <td>কাকু মাজে কথা ভলে কাকু নিজেও জানে ভলে</td>\n",
       "      <td>0</td>\n",
       "    </tr>\n",
       "    <tr>\n",
       "      <th>9492</th>\n",
       "      <td>কিছুক্ষণ ভাবার টাইম পাওয়া গেলো</td>\n",
       "      <td>0</td>\n",
       "    </tr>\n",
       "    <tr>\n",
       "      <th>6798</th>\n",
       "      <td>উঁহু</td>\n",
       "      <td>0</td>\n",
       "    </tr>\n",
       "    <tr>\n",
       "      <th>4351</th>\n",
       "      <td>মতের মূল্য কৈ</td>\n",
       "      <td>0</td>\n",
       "    </tr>\n",
       "    <tr>\n",
       "      <th>4583</th>\n",
       "      <td>দেশের লোক</td>\n",
       "      <td>0</td>\n",
       "    </tr>\n",
       "  </tbody>\n",
       "</table>\n",
       "</div>"
      ],
      "text/plain": [
       "                               comment_text  isAbusive\n",
       "4370  কাকু মাজে কথা ভলে কাকু নিজেও জানে ভলে          0\n",
       "9492         কিছুক্ষণ ভাবার টাইম পাওয়া গেলো          0\n",
       "6798                                   উঁহু          0\n",
       "4351                          মতের মূল্য কৈ          0\n",
       "4583                              দেশের লোক          0"
      ]
     },
     "execution_count": 26,
     "metadata": {},
     "output_type": "execute_result"
    }
   ],
   "source": [
    "print(\"After preprocessing\")\n",
    "df[df['isAbusive'] == 0][['comment_text', 'isAbusive']].head()"
   ]
  },
  {
   "cell_type": "markdown",
   "metadata": {},
   "source": [
    "## Training without kfold "
   ]
  },
  {
   "cell_type": "code",
   "execution_count": 42,
   "metadata": {},
   "outputs": [
    {
     "name": "stdout",
     "output_type": "stream",
     "text": [
      "Accuracy  =  83.80626223091977\n",
      "Precision =  81.7116060961313\n",
      "F1-Score  =  80.81159420289855\n"
     ]
    }
   ],
   "source": [
    "X_train, X_test, y_train, y_test = train_test_split(df.comment_text,df.isAbusive, test_size = 0.20)\n",
    "\n",
    "v = TfidfVectorizer()\n",
    "X_train_vector = v.fit_transform(X_train.values)\n",
    "X_test_vector = v.transform(X_test.values)\n",
    "# 'linear', 'poly', 'rbf', 'sigmoid', 'precomputed'\n",
    "model = SVC(kernel='rbf')\n",
    "model.fit(X_train_vector, y_train)\n",
    "y_pred = model.predict(X_test_vector)\n",
    "\n",
    "\n",
    "X_test_count = v.transform(X_test)\n",
    "score = model.score(X_test_vector, y_test)\n",
    "print(\"Accuracy  = \", score*100)\n",
    "print(\"Precision = \", precision_score(y_test, y_pred) * 100)\n",
    "print(\"F1-Score  = \", f1_score(y_test, y_pred) * 100)"
   ]
  },
  {
   "cell_type": "code",
   "execution_count": 28,
   "metadata": {},
   "outputs": [
    {
     "data": {
      "text/plain": [
       "<sklearn.metrics._plot.confusion_matrix.ConfusionMatrixDisplay at 0x23187b118e0>"
      ]
     },
     "execution_count": 28,
     "metadata": {},
     "output_type": "execute_result"
    },
    {
     "data": {
      "image/png": "[encoded data removed]",
      "text/plain": [
       "<Figure size 432x288 with 2 Axes>"
      ]
     },
     "metadata": {
      "needs_background": "light"
     },
     "output_type": "display_data"
    }
   ],
   "source": [
    "from sklearn.metrics import plot_confusion_matrix\n",
    "plot_confusion_matrix(model, X_test_count, y_test,cmap='inferno')"
   ]
  },
  {
   "cell_type": "markdown",
   "metadata": {},
   "source": [
    "## Using Kfold"
   ]
  },
  {
   "cell_type": "markdown",
   "metadata": {},
   "source": [
    "## SVM with rbf kernel"
   ]
  },
  {
   "cell_type": "code",
   "execution_count": 45,
   "metadata": {
    "scrolled": true
   },
   "outputs": [
    {
     "name": "stdout",
     "output_type": "stream",
     "text": [
      "accuracy  :  0.7449598747308671\n",
      "Precision :  0.9452335523932165\n",
      "F1 Score  :  0.8236490686794854\n"
     ]
    }
   ],
   "source": [
    "acc_m_svc = 0.0\n",
    "f1_m_svc = 0.0\n",
    "pre_m_svc = 0.0\n",
    "recall_m_svc = 0.0\n",
    "n = 6\n",
    "v = TfidfVectorizer()\n",
    "\n",
    "x = df.comment_text\n",
    "y = df.isAbusive\n",
    "\n",
    "\n",
    "kf = KFold(n_splits=n)\n",
    "for train_index, test_index in kf.split(x):\n",
    "    X_train, X_test = x[train_index], x[test_index]\n",
    "    y_train, y_test = y[train_index], y[test_index]\n",
    "    \n",
    "    \n",
    "    model = SVC(kernel='rbf')\n",
    "\n",
    "    X_train_vector = v.fit_transform(X_train.values)\n",
    "    X_test_vector = v.transform(X_test.values)\n",
    "    \n",
    "    model.fit(X_train_vector,y_train)\n",
    "    \n",
    "    y_pred = model.predict(X_test_vector)\n",
    "\n",
    "    acc_m_svc = acc_m_svc + accuracy_score(y_test, y_pred)\n",
    "    pre_m_svc = pre_m_svc + precision_score(y_test, y_pred,average='weighted')\n",
    "    f1_m_svc = f1_m_svc + f1_score(y_test, y_pred,average='weighted')\n",
    "    recall_m_svc = recall_m_svc + recall_score(y_test, y_pred,average='weighted')\n",
    "\n",
    "    \n",
    "print(\"accuracy  : \" , acc_m_svc/n)\n",
    "print(\"Precision : \" , pre_m_svc/n)\n",
    "print(\"F1 Score  : \" , f1_m_svc/n)\n",
    "# print(\"Recall    : \" , recall_m_svc/n)"
   ]
  },
  {
   "cell_type": "markdown",
   "metadata": {},
   "source": [
    "## SVM with Linear Kernel"
   ]
  },
  {
   "cell_type": "code",
   "execution_count": 47,
   "metadata": {},
   "outputs": [
    {
     "name": "stdout",
     "output_type": "stream",
     "text": [
      "accuracy  :  0.7268659519944185\n",
      "Precision :  0.9597476465633312\n",
      "F1 Score  :  0.817202308500986\n"
     ]
    }
   ],
   "source": [
    "acc_m_svc = 0.0\n",
    "f1_m_svc = 0.0\n",
    "pre_m_svc = 0.0\n",
    "recall_m_svc = 0.0\n",
    "n = 10\n",
    "v = TfidfVectorizer()\n",
    "\n",
    "x = df.comment_text\n",
    "y = df.isAbusive\n",
    "\n",
    "\n",
    "kf = KFold(n_splits=n)\n",
    "for train_index, test_index in kf.split(x):\n",
    "    X_train, X_test = x[train_index], x[test_index]\n",
    "    y_train, y_test = y[train_index], y[test_index]\n",
    "    \n",
    "    \n",
    "    model = SVC(kernel='linear')\n",
    "\n",
    "    X_train_vector = v.fit_transform(X_train.values)\n",
    "    X_test_vector = v.transform(X_test.values)\n",
    "    \n",
    "    model.fit(X_train_vector,y_train)\n",
    "    \n",
    "    y_pred = model.predict(X_test_vector)\n",
    "\n",
    "    acc_m_svc = acc_m_svc + accuracy_score(y_test, y_pred)\n",
    "    pre_m_svc = pre_m_svc + precision_score(y_test, y_pred,average='weighted')\n",
    "    f1_m_svc = f1_m_svc + f1_score(y_test, y_pred,average='weighted')\n",
    "    recall_m_svc = recall_m_svc + recall_score(y_test, y_pred,average='weighted')\n",
    "\n",
    "print(\"accuracy  : \" , acc_m_svc/n)\n",
    "print(\"Precision : \" , pre_m_svc/n)\n",
    "print(\"F1 Score  : \" , f1_m_svc/n)\n",
    "# print(\"Recall    : \" , recall_m_svc/n)"
   ]
  },
  {
   "cell_type": "markdown",
   "metadata": {},
   "source": [
    "### Some Testing"
   ]
  },
  {
   "cell_type": "code",
   "execution_count": 84,
   "metadata": {},
   "outputs": [
    {
     "name": "stdout",
     "output_type": "stream",
     "text": [
      "অপেক্ষা সত্যতা বের হয়ে আসবেই\n",
      "উনার চোখ চকচক উঠলো\n",
      "আজকে ১্টা ল্যাব\n",
      "কুত্তার বাচ্চা\n",
      "রফিক নামক লোকটি ইতর\n",
      "নাস্তিকের বাচ্চা কোথাকার\n"
     ]
    },
    {
     "data": {
      "text/plain": [
       "array([0, 0, 0, 1, 1, 1], dtype=int64)"
      ]
     },
     "execution_count": 84,
     "metadata": {},
     "output_type": "execute_result"
    }
   ],
   "source": [
    "text = [\n",
    "    'অপেক্ষা করেন, সত্যতা বের হয়ে আসবেই',\n",
    "    'উনার চোখ চকচক করে উঠলো',\n",
    "    'আজকে ১্টা ল্যাব আছে',\n",
    "    'কুত্তার বাচ্চা',\n",
    "    'রফিক নামক লোকটি ইতর',\n",
    "    'নাস্তিকের বাচ্চা কোথাকার',\n",
    "    \n",
    "]\n",
    "\n",
    "preprocessed_text = []\n",
    "for x in text:\n",
    "    temp = remove_stopwords(x)\n",
    "    temp = remove_punctuations(temp)\n",
    "    preprocessed_text.append(temp)\n",
    "    print(temp)\n",
    "    \n",
    "text_count = v.transform(text)\n",
    "model.predict(text_count)"
   ]
  }
 ],
 "metadata": {
  "kernelspec": {
   "display_name": "Python 3",
   "language": "python",
   "name": "python3"
  },
  "language_info": {
   "codemirror_mode": {
    "name": "ipython",
    "version": 3
   },
   "file_extension": ".py",
   "mimetype": "text/x-python",
   "name": "python",
   "nbconvert_exporter": "python",
   "pygments_lexer": "ipython3",
   "version": "3.8.5"
  }
 },
 "nbformat": 4,
 "nbformat_minor": 4
}
