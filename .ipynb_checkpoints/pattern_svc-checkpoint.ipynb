{
 "cells": [
  {
   "cell_type": "code",
   "execution_count": 1,
   "metadata": {},
   "outputs": [],
   "source": [
    "import pandas as pd\n",
    "import warnings\n",
    "warnings.filterwarnings('ignore')\n",
    "from sklearn.svm import LinearSVC\n",
    "from sklearn.svm import SVC\n",
    "from sklearn.naive_bayes import MultinomialNB\n",
    "from sklearn.model_selection import KFold\n",
    "from sklearn.feature_extraction.text import TfidfTransformer\n",
    "from sklearn.feature_extraction.text import CountVectorizer\n",
    "from sklearn.feature_extraction.text import TfidfVectorizer\n",
    "from sklearn.metrics import accuracy_score, confusion_matrix\n",
    "from sklearn.model_selection import train_test_split\n",
    "from sklearn.pipeline import Pipeline\n",
    "from sklearn.metrics import classification_report\n",
    "from sklearn.metrics import f1_score\n",
    "from sklearn.metrics import precision_score\n",
    "from sklearn.metrics import recall_score"
   ]
  },
  {
   "cell_type": "code",
   "execution_count": 2,
   "metadata": {},
   "outputs": [],
   "source": [
    "df=pd.read_excel('updated_data.xlsx')"
   ]
  },
  {
   "cell_type": "markdown",
   "metadata": {},
   "source": [
    "## Training without kfold "
   ]
  },
  {
   "cell_type": "code",
   "execution_count": 23,
   "metadata": {},
   "outputs": [
    {
     "data": {
      "text/plain": [
       "0.8874755381604696"
      ]
     },
     "execution_count": 23,
     "metadata": {},
     "output_type": "execute_result"
    }
   ],
   "source": [
    "X_train, X_test, y_train, y_test = train_test_split(df.comment_text,df.isAbusive, test_size = 0.10)\n",
    "\n",
    "v = TfidfVectorizer()\n",
    "X_train_count = v.fit_transform(X_train.values)\n",
    "X_train_count.toarray()[:3]\n",
    "\n",
    "# 'linear', 'poly', 'rbf', 'sigmoid', 'precomputed'\n",
    "model = SVC(kernel='rbf')\n",
    "model.fit(X_train_count, y_train)\n",
    "\n",
    "\n",
    "\n",
    "X_test_count = v.transform(X_test)\n",
    "model.score(X_test_count, y_test)"
   ]
  },
  {
   "cell_type": "code",
   "execution_count": 24,
   "metadata": {},
   "outputs": [
    {
     "data": {
      "text/plain": [
       "<sklearn.metrics._plot.confusion_matrix.ConfusionMatrixDisplay at 0x25d5fb45790>"
      ]
     },
     "execution_count": 24,
     "metadata": {},
     "output_type": "execute_result"
    },
    {
     "data": {
      "image/png": "[encoded data removed]",
      "text/plain": [
       "<Figure size 432x288 with 2 Axes>"
      ]
     },
     "metadata": {
      "needs_background": "light"
     },
     "output_type": "display_data"
    }
   ],
   "source": [
    "from sklearn.metrics import plot_confusion_matrix\n",
    "plot_confusion_matrix(model, X_test_count, y_test,cmap='inferno')"
   ]
  },
  {
   "cell_type": "markdown",
   "metadata": {},
   "source": [
    "## Using Kfold"
   ]
  },
  {
   "cell_type": "code",
   "execution_count": 15,
   "metadata": {
    "scrolled": true
   },
   "outputs": [
    {
     "name": "stdout",
     "output_type": "stream",
     "text": [
      "accuracy  :  0.8309887662416072\n",
      "Precision :  0.9677631849609021\n",
      "F1 Score  :  0.8899660800054106\n",
      "Recall    :  0.8309887662416072\n"
     ]
    }
   ],
   "source": [
    "acc_m_svc = 0.0\n",
    "f1_m_svc = 0.0\n",
    "pre_m_svc = 0.0\n",
    "recall_m_svc = 0.0\n",
    "n = 10\n",
    "v = TfidfVectorizer()\n",
    "\n",
    "x = df.comment_text\n",
    "y = df.isAbusive\n",
    "\n",
    "\n",
    "kf = KFold(n_splits=n)\n",
    "for train_index, test_index in kf.split(x):\n",
    "    X_train, X_test = x[train_index], x[test_index]\n",
    "    y_train, y_test = y[train_index], y[test_index]\n",
    "    \n",
    "    \n",
    "    model = SVC(kernel='rbf')\n",
    "\n",
    "    X_train_vector = v.fit_transform(X_train.values)\n",
    "    X_test_vector = v.transform(X_test.values)\n",
    "    \n",
    "    model.fit(X_train_vector,y_train)\n",
    "    \n",
    "    y_pred = model.predict(X_test_vector)\n",
    "\n",
    "    acc_m_svc = acc_m_svc + accuracy_score(y_test, y_pred)\n",
    "    pre_m_svc = pre_m_svc + precision_score(y_test, y_pred,average='weighted')\n",
    "    f1_m_svc = f1_m_svc + f1_score(y_test, y_pred,average='weighted')\n",
    "    recall_m_svc = recall_m_svc + recall_score(y_test, y_pred,average='weighted')\n",
    "\n",
    "print(\"accuracy  : \" , acc_m_svc/n)\n",
    "print(\"Precision : \" , pre_m_svc/n)\n",
    "print(\"F1 Score  : \" , f1_m_svc/n)\n",
    "print(\"Recall    : \" , recall_m_svc/n)"
   ]
  },
  {
   "cell_type": "code",
   "execution_count": 7,
   "metadata": {},
   "outputs": [
    {
     "name": "stdout",
     "output_type": "stream",
     "text": [
      "accuracy  :  0.8114099028043187\n",
      "Precision :  0.9650384517717112\n",
      "F1 Score  :  0.8788622879360407\n",
      "Recall    :  0.8114099028043187\n"
     ]
    }
   ],
   "source": [
    "acc_m_svc = 0.0\n",
    "f1_m_svc = 0.0\n",
    "pre_m_svc = 0.0\n",
    "recall_m_svc = 0.0\n",
    "n = 10\n",
    "v = TfidfVectorizer()\n",
    "\n",
    "x = df.comment_text\n",
    "y = df.isAbusive\n",
    "\n",
    "\n",
    "kf = KFold(n_splits=n)\n",
    "for train_index, test_index in kf.split(x):\n",
    "    X_train, X_test = x[train_index], x[test_index]\n",
    "    y_train, y_test = y[train_index], y[test_index]\n",
    "    \n",
    "    \n",
    "    model = SVC(kernel='linear')\n",
    "\n",
    "    X_train_vector = v.fit_transform(X_train.values)\n",
    "    X_test_vector = v.transform(X_test.values)\n",
    "    \n",
    "    model.fit(X_train_vector,y_train)\n",
    "    \n",
    "    y_pred = model.predict(X_test_vector)\n",
    "\n",
    "    acc_m_svc = acc_m_svc + accuracy_score(y_test, y_pred)\n",
    "    pre_m_svc = pre_m_svc + precision_score(y_test, y_pred,average='weighted')\n",
    "    f1_m_svc = f1_m_svc + f1_score(y_test, y_pred,average='weighted')\n",
    "    recall_m_svc = recall_m_svc + recall_score(y_test, y_pred,average='weighted')\n",
    "\n",
    "print(\"accuracy  : \" , acc_m_svc/n)\n",
    "print(\"Precision : \" , pre_m_svc/n)\n",
    "print(\"F1 Score  : \" , f1_m_svc/n)\n",
    "print(\"Recall    : \" , recall_m_svc/n)"
   ]
  },
  {
   "cell_type": "code",
   "execution_count": null,
   "metadata": {},
   "outputs": [],
   "source": []
  },
  {
   "cell_type": "code",
   "execution_count": 19,
   "metadata": {},
   "outputs": [
    {
     "data": {
      "text/plain": [
       "array([0, 0, 1, 1], dtype=int64)"
      ]
     },
     "execution_count": 19,
     "metadata": {},
     "output_type": "execute_result"
    }
   ],
   "source": [
    "text = [\n",
    "    'অপেক্ষা করেন, সত্যতা বের হয়ে আসবেই',\n",
    "    'উনার চোখ চকচক করে উঠলো',\n",
    "    'বাইঞ্চুদ তুই রেডি থাক, ইফতারের পর বুঝবি ঠেলা কারে কয়',\n",
    "    'কুত্তার বাচ্চা'\n",
    "]\n",
    "text_count = v.transform(text)\n",
    "model.predict(text_count)"
   ]
  },
  {
   "cell_type": "code",
   "execution_count": null,
   "metadata": {},
   "outputs": [],
   "source": [
    "            "
   ]
  },
  {
   "cell_type": "code",
   "execution_count": null,
   "metadata": {},
   "outputs": [],
   "source": []
  }
 ],
 "metadata": {
  "kernelspec": {
   "display_name": "Python 3",
   "language": "python",
   "name": "python3"
  },
  "language_info": {
   "codemirror_mode": {
    "name": "ipython",
    "version": 3
   },
   "file_extension": ".py",
   "mimetype": "text/x-python",
   "name": "python",
   "nbconvert_exporter": "python",
   "pygments_lexer": "ipython3",
   "version": "3.8.5"
  }
 },
 "nbformat": 4,
 "nbformat_minor": 4
}
