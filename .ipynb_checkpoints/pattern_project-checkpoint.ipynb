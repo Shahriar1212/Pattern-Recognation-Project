{
 "cells": [
  {
   "cell_type": "code",
   "execution_count": 1,
   "metadata": {},
   "outputs": [],
   "source": [
    "import pandas as pd\n",
    "import warnings\n",
    "warnings.filterwarnings('ignore')\n",
    "\n",
    "from sklearn.svm import LinearSVC\n",
    "from sklearn.svm import SVC\n",
    "from sklearn.naive_bayes import MultinomialNB\n",
    "from sklearn.linear_model import LogisticRegression\n",
    "from sklearn.tree import DecisionTreeClassifier\n",
    "from sklearn.ensemble import RandomForestClassifier\n",
    "\n",
    "from sklearn.model_selection import KFold\n",
    "from sklearn.feature_extraction.text import TfidfTransformer\n",
    "from sklearn.feature_extraction.text import CountVectorizer\n",
    "from sklearn.feature_extraction.text import TfidfVectorizer\n",
    "from sklearn.metrics import accuracy_score, confusion_matrix\n",
    "from sklearn.model_selection import train_test_split\n",
    "from sklearn.pipeline import Pipeline\n",
    "from sklearn.metrics import classification_report\n",
    "from sklearn.metrics import f1_score\n",
    "from sklearn.metrics import precision_score\n",
    "from sklearn.metrics import recall_score\n",
    "\n",
    "from sklearn.metrics import plot_confusion_matrix\n",
    "\n",
    "import matplotlib as mpl\n",
    "import matplotlib.pyplot as plt\n",
    "import seaborn as sb\n",
    "import numpy as np"
   ]
  },
  {
   "cell_type": "code",
   "execution_count": 2,
   "metadata": {},
   "outputs": [],
   "source": [
    "df=pd.read_excel('updated_data.xlsx')"
   ]
  },
  {
   "cell_type": "code",
   "execution_count": 3,
   "metadata": {},
   "outputs": [
    {
     "data": {
      "image/png": "[encoded data removed]",
      "text/plain": [
       "<Figure size 432x288 with 1 Axes>"
      ]
     },
     "metadata": {
      "needs_background": "light"
     },
     "output_type": "display_data"
    }
   ],
   "source": [
    "df1 = df\n",
    "df1['length'] = 0\n",
    "\n",
    "a = 0\n",
    "for i, row in df1.iterrows():\n",
    "    l = len(row['comment_text'])\n",
    "    df1.at[i,'length'] = l\n",
    "\n",
    "length_array = df1['length'].to_numpy()\n",
    "\n",
    "fig, ax = plt.subplots()\n",
    "ax.hist(length_array, bins=1000)\n",
    " \n",
    "# Show plot\n",
    "plt.xlim(0,700)\n",
    "plt.show()"
   ]
  },
  {
   "cell_type": "markdown",
   "metadata": {},
   "source": [
    "## Support Vector Classifier"
   ]
  },
  {
   "cell_type": "code",
   "execution_count": 23,
   "metadata": {},
   "outputs": [
    {
     "name": "stdout",
     "output_type": "stream",
     "text": [
      "accuracy  :  83.09887662416072\n",
      "Precision :  96.77631849609021\n",
      "Recall    :  83.09887662416072\n",
      "F1 Score  :  88.99660800054106\n"
     ]
    },
    {
     "data": {
      "image/png": "[encoded data removed]",
      "text/plain": [
       "<Figure size 432x288 with 2 Axes>"
      ]
     },
     "metadata": {
      "needs_background": "light"
     },
     "output_type": "display_data"
    },
    {
     "data": {
      "image/png": "[encoded data removed]",
      "text/plain": [
       "<Figure size 432x288 with 1 Axes>"
      ]
     },
     "metadata": {
      "needs_background": "light"
     },
     "output_type": "display_data"
    }
   ],
   "source": [
    "accuracy = 0.0\n",
    "precision = 0.0\n",
    "f_score = 0.0\n",
    "recall = 0.0\n",
    "n = 10\n",
    "v = TfidfVectorizer()\n",
    "conf_m_svc = 0\n",
    "x = df.comment_text\n",
    "y = df.isAbusive\n",
    "\n",
    "\n",
    "kf = KFold(n_splits=n)\n",
    "for train_index, test_index in kf.split(x):\n",
    "    X_train, X_test = x[train_index], x[test_index]\n",
    "    y_train, y_test = y[train_index], y[test_index]\n",
    "    \n",
    "    \n",
    "    model_svc = SVC(kernel='rbf')\n",
    "\n",
    "    X_train_vector = v.fit_transform(X_train.values)\n",
    "    X_test_vector = v.transform(X_test.values)\n",
    "    \n",
    "    model_svc.fit(X_train_vector,y_train)\n",
    "    \n",
    "    y_pred = model_svc.predict(X_test_vector)\n",
    "\n",
    "    conf_m_svc = conf_m_svc + confusion_matrix(y_test, y_pred)\n",
    "    accuracy = accuracy + accuracy_score(y_test, y_pred)\n",
    "    precision = precision + precision_score(y_test, y_pred,average='weighted')\n",
    "    f_score = f_score + f1_score(y_test, y_pred,average='weighted')\n",
    "    recall = recall + recall_score(y_test, y_pred,average='weighted')\n",
    "\n",
    "    \n",
    "accuracy  = (accuracy/n) * 100\n",
    "precision = (precision/n) * 100\n",
    "recall    = (recall/n) * 100\n",
    "f_score  = (f_score/n) * 100\n",
    "\n",
    "\n",
    "performance_svc = {\"accuracy\" : accuracy, \n",
    "                   \"precision\" : precision,\n",
    "                   \"recall\": recall,\n",
    "                   \"f1-score\" : f_score} \n",
    "\n",
    "print(\"accuracy  : \" , performance_svc['accuracy'])\n",
    "print(\"Precision : \" , performance_svc['precision'])\n",
    "print(\"Recall    : \" , performance_svc['recall'])\n",
    "print(\"F1 Score  : \" , performance_svc['f1-score'])\n",
    "\n",
    "\n",
    "\n",
    "fig = plt.figure()\n",
    "plt.clf()\n",
    "\n",
    "ax = fig.add_subplot()\n",
    "ax.set_aspect(1)\n",
    "\n",
    "cmap = sb.cubehelix_palette(light=1, as_cmap=True)\n",
    "res = sb.heatmap(conf_m_svc, annot=True, vmin=0.0, vmax=np.max(conf_m_svc), fmt='.2f', cmap=\"YlGnBu\")\n",
    "\n",
    "plt.title('Confusion Matrix')\n",
    "plt.ylabel('Predicted')\n",
    "plt.xlabel('True')\n",
    "plt.show()\n",
    "\n",
    "\n",
    "#fig= plt.subplots(figsize=(10,10))\n",
    "fig = plt.figure()\n",
    "ax = fig.add_axes([0,0,1,1])\n",
    "label = ['Accuracy', 'Precision', 'Recall', 'F1-score']\n",
    "value = [performance_svc['accuracy'],performance_svc['precision'],performance_svc['recall'],performance_svc['f1-score']]\n",
    "ax.bar(label,value)\n",
    "plt.ylim(50,100)\n",
    "plt.show()"
   ]
  },
  {
   "cell_type": "markdown",
   "metadata": {
    "scrolled": true
   },
   "source": [
    "## Logistic Regression"
   ]
  },
  {
   "cell_type": "code",
   "execution_count": 24,
   "metadata": {},
   "outputs": [
    {
     "name": "stdout",
     "output_type": "stream",
     "text": [
      "accuracy  :  79.13525360770205\n",
      "Precision :  96.51041439797154\n",
      "Recall    :  79.13525360770205\n",
      "F1 Score  :  86.46252995466963\n"
     ]
    },
    {
     "data": {
      "image/png": "[encoded data removed]",
      "text/plain": [
       "<Figure size 432x288 with 2 Axes>"
      ]
     },
     "metadata": {
      "needs_background": "light"
     },
     "output_type": "display_data"
    },
    {
     "data": {
      "image/png": "[encoded data removed]",
      "text/plain": [
       "<Figure size 432x288 with 1 Axes>"
      ]
     },
     "metadata": {
      "needs_background": "light"
     },
     "output_type": "display_data"
    }
   ],
   "source": [
    "accuracy = 0.0\n",
    "precision = 0.0\n",
    "f_score = 0.0\n",
    "recall = 0.0\n",
    "n = 10\n",
    "v = TfidfVectorizer()\n",
    "conf_m_logistic = 0\n",
    "x = df.comment_text\n",
    "y = df.isAbusive\n",
    "\n",
    "\n",
    "kf = KFold(n_splits=n)\n",
    "for train_index, test_index in kf.split(x):\n",
    "    X_train, X_test = x[train_index], x[test_index]\n",
    "    y_train, y_test = y[train_index], y[test_index]\n",
    "    \n",
    "    \n",
    "    model_logistic = LogisticRegression()\n",
    "\n",
    "    X_train_vector = v.fit_transform(X_train.values)\n",
    "    X_test_vector = v.transform(X_test.values)\n",
    "    \n",
    "    model_logistic.fit(X_train_vector,y_train)\n",
    "    \n",
    "    y_pred = model_logistic.predict(X_test_vector)\n",
    "\n",
    "    conf_m_logistic = conf_m_logistic + confusion_matrix(y_test, y_pred)\n",
    "    accuracy = accuracy + accuracy_score(y_test, y_pred)\n",
    "    precision = precision + precision_score(y_test, y_pred,average='weighted')\n",
    "    f_score = f_score + f1_score(y_test, y_pred,average='weighted')\n",
    "    recall = recall + recall_score(y_test, y_pred,average='weighted')\n",
    "\n",
    "    \n",
    "accuracy  = (accuracy/n) * 100\n",
    "precision = (precision/n) * 100\n",
    "recall    = (recall/n) * 100\n",
    "f_score  = (f_score/n) * 100\n",
    "\n",
    "\n",
    "performance_logistic = {\"accuracy\" : accuracy, \n",
    "                   \"precision\" : precision,\n",
    "                   \"recall\": recall,\n",
    "                   \"f1-score\" : f_score} \n",
    "\n",
    "print(\"accuracy  : \" , performance_logistic['accuracy'])\n",
    "print(\"Precision : \" , performance_logistic['precision'])\n",
    "print(\"Recall    : \" , performance_logistic['recall'])\n",
    "print(\"F1 Score  : \" , performance_logistic['f1-score'])\n",
    "\n",
    "\n",
    "\n",
    "fig = plt.figure()\n",
    "plt.clf()\n",
    "\n",
    "ax = fig.add_subplot()\n",
    "ax.set_aspect(1)\n",
    "\n",
    "cmap = sb.cubehelix_palette(light=1, as_cmap=True)\n",
    "res = sb.heatmap(conf_m_logistic, annot=True, vmin=0.0, vmax=np.max(conf_m_logistic), fmt='.2f', cmap=\"YlGnBu\")\n",
    "\n",
    "plt.title('Confusion Matrix')\n",
    "plt.ylabel('Predicted')\n",
    "plt.xlabel('True')\n",
    "plt.show()\n",
    "\n",
    "\n",
    "fig = plt.figure()\n",
    "ax = fig.add_axes([0,0,1,1])\n",
    "label = ['Accuracy', 'Precision', 'Recall', 'F1-score']\n",
    "value = [performance_logistic['accuracy'],performance_logistic['precision'],performance_logistic['recall'],performance_logistic['f1-score']]\n",
    "ax.bar(label,value)\n",
    "plt.ylim(50,100)\n",
    "plt.show()"
   ]
  },
  {
   "cell_type": "markdown",
   "metadata": {},
   "source": [
    "## Naive Bayes"
   ]
  },
  {
   "cell_type": "code",
   "execution_count": 25,
   "metadata": {},
   "outputs": [
    {
     "name": "stdout",
     "output_type": "stream",
     "text": [
      "accuracy  :  76.11228774981743\n",
      "Precision :  96.04899192490345\n",
      "Recall    :  76.11228774981743\n",
      "F1 Score  :  82.79316522537886\n"
     ]
    },
    {
     "data": {
      "image/png": "[encoded data removed]",
      "text/plain": [
       "<Figure size 432x288 with 2 Axes>"
      ]
     },
     "metadata": {
      "needs_background": "light"
     },
     "output_type": "display_data"
    },
    {
     "data": {
      "image/png": "[encoded data removed]",
      "text/plain": [
       "<Figure size 432x288 with 1 Axes>"
      ]
     },
     "metadata": {
      "needs_background": "light"
     },
     "output_type": "display_data"
    }
   ],
   "source": [
    "accuracy = 0.0\n",
    "precision = 0.0\n",
    "f_score = 0.0\n",
    "recall = 0.0\n",
    "n = 10\n",
    "v = TfidfVectorizer()\n",
    "conf_m_nb = 0\n",
    "x = df.comment_text\n",
    "y = df.isAbusive\n",
    "\n",
    "\n",
    "kf = KFold(n_splits=n)\n",
    "for train_index, test_index in kf.split(x):\n",
    "    X_train, X_test = x[train_index], x[test_index]\n",
    "    y_train, y_test = y[train_index], y[test_index]\n",
    "    \n",
    "    \n",
    "    model_nb = MultinomialNB()\n",
    "\n",
    "    X_train_vector = v.fit_transform(X_train.values)\n",
    "    X_test_vector = v.transform(X_test.values)\n",
    "    \n",
    "    model_nb.fit(X_train_vector,y_train)\n",
    "    \n",
    "    y_pred = model_nb.predict(X_test_vector)\n",
    "\n",
    "    conf_m_nb = conf_m_nb + confusion_matrix(y_test, y_pred)\n",
    "    accuracy = accuracy + accuracy_score(y_test, y_pred)\n",
    "    precision = precision + precision_score(y_test, y_pred,average='weighted')\n",
    "    f_score = f_score + f1_score(y_test, y_pred,average='weighted')\n",
    "    recall = recall + recall_score(y_test, y_pred,average='weighted')\n",
    "\n",
    "    \n",
    "accuracy  = (accuracy/n) * 100\n",
    "precision = (precision/n) * 100\n",
    "f_score  = (f_score/n) * 100\n",
    "recall    = (recall/n) * 100\n",
    "\n",
    "performance_nb = {\"accuracy\" : accuracy, \n",
    "                   \"precision\" : precision,\n",
    "                   \"recall\": recall,\n",
    "                   \"f1-score\" : f_score} \n",
    "\n",
    "print(\"accuracy  : \" , performance_nb['accuracy'])\n",
    "print(\"Precision : \" , performance_nb['precision'])\n",
    "print(\"Recall    : \" , performance_nb['recall'])\n",
    "print(\"F1 Score  : \" , performance_nb['f1-score'])\n",
    "\n",
    "\n",
    "\n",
    "fig = plt.figure()\n",
    "plt.clf()\n",
    "\n",
    "ax = fig.add_subplot()\n",
    "ax.set_aspect(1)\n",
    "\n",
    "cmap = sb.cubehelix_palette(light=1, as_cmap=True)\n",
    "res = sb.heatmap(conf_m_nb, annot=True, vmin=0.0, vmax=np.max(conf_m_nb), fmt='.2f', cmap=\"YlGnBu\")\n",
    "\n",
    "plt.title('Confusion Matrix')\n",
    "plt.ylabel('Predicted')\n",
    "plt.xlabel('True')\n",
    "plt.show()\n",
    "\n",
    "\n",
    "fig = plt.figure()\n",
    "ax = fig.add_axes([0,0,1,1])\n",
    "label = ['Accuracy', 'Precision', 'Recall', 'F1-score']\n",
    "value = [performance_nb['accuracy'],performance_nb['precision'],performance_nb['recall'],performance_nb['f1-score']]\n",
    "ax.bar(label,value)\n",
    "plt.ylim(50,100)\n",
    "plt.show()"
   ]
  },
  {
   "cell_type": "markdown",
   "metadata": {},
   "source": [
    "## Decision Tree"
   ]
  },
  {
   "cell_type": "code",
   "execution_count": 26,
   "metadata": {},
   "outputs": [
    {
     "name": "stdout",
     "output_type": "stream",
     "text": [
      "accuracy  :  75.00481090830333\n",
      "Precision :  95.41603410279056\n",
      "Recall    :  75.00481090830333\n",
      "F1 Score  :  83.48920728952447\n"
     ]
    },
    {
     "data": {
      "image/png": "[encoded data removed]",
      "text/plain": [
       "<Figure size 432x288 with 2 Axes>"
      ]
     },
     "metadata": {
      "needs_background": "light"
     },
     "output_type": "display_data"
    },
    {
     "data": {
      "image/png": "[encoded data removed]",
      "text/plain": [
       "<Figure size 432x288 with 1 Axes>"
      ]
     },
     "metadata": {
      "needs_background": "light"
     },
     "output_type": "display_data"
    }
   ],
   "source": [
    "accuracy = 0.0\n",
    "precision = 0.0\n",
    "f_score = 0.0\n",
    "recall = 0.0\n",
    "n = 10\n",
    "v = TfidfVectorizer()\n",
    "conf_m_dt = 0\n",
    "x = df.comment_text\n",
    "y = df.isAbusive\n",
    "\n",
    "tp = 0\n",
    "fp = 0\n",
    "tn = 0\n",
    "fn = 0\n",
    "\n",
    "kf = KFold(n_splits=n)\n",
    "for train_index, test_index in kf.split(x):\n",
    "    X_train, X_test = x[train_index], x[test_index]\n",
    "    y_train, y_test = y[train_index], y[test_index]\n",
    "    \n",
    "    \n",
    "    model_dt = DecisionTreeClassifier(random_state=0, max_depth=100)\n",
    "\n",
    "    X_train_vector = v.fit_transform(X_train.values)\n",
    "    X_test_vector = v.transform(X_test.values)\n",
    "    \n",
    "    model_dt.fit(X_train_vector,y_train)\n",
    "    \n",
    "    y_pred = model_dt.predict(X_test_vector)\n",
    "\n",
    "    conf_m_dt = conf_m_dt + confusion_matrix(y_test, y_pred)\n",
    "    accuracy = accuracy + accuracy_score(y_test, y_pred)\n",
    "    precision = precision + precision_score(y_test, y_pred,average='weighted')\n",
    "    recall = recall + recall_score(y_test, y_pred,average='weighted')\n",
    "    f_score = f_score + f1_score(y_test, y_pred,average='weighted')\n",
    "    \n",
    "\n",
    "tp = conf_m_dt[1][1]\n",
    "tn = conf_m_dt[0][0]\n",
    "fp = conf_m_dt[0][1]\n",
    "fn = conf_m_dt[1][0]\n",
    "\n",
    "# precision = (tp/(tp+fp))\n",
    "# recall = (tp/(tp+fn))\n",
    "# f_score = (2*(precision*recall))/(precision*recall)\n",
    "    \n",
    "accuracy  = (accuracy/n) * 100\n",
    "precision = (precision/n) * 100\n",
    "recall    = (recall/n) * 100\n",
    "f_score  = (f_score/n) * 100\n",
    "\n",
    "\n",
    "performance_dt = {\"accuracy\" : accuracy, \n",
    "                   \"precision\" : precision,\n",
    "                   \"recall\": recall,\n",
    "                   \"f1-score\" : f_score} \n",
    "\n",
    "print(\"accuracy  : \" , performance_dt['accuracy'])\n",
    "print(\"Precision : \" , performance_dt['precision'])\n",
    "print(\"Recall    : \" , performance_dt['recall'])\n",
    "print(\"F1 Score  : \" , performance_dt['f1-score'])\n",
    "\n",
    "\n",
    "\n",
    "fig = plt.figure()\n",
    "plt.clf()\n",
    "\n",
    "ax = fig.add_subplot()\n",
    "ax.set_aspect(1)\n",
    "\n",
    "cmap = sb.cubehelix_palette(light=1, as_cmap=True)\n",
    "res = sb.heatmap(conf_m_dt, annot=True, vmin=0.0, vmax=np.max(conf_m_dt), fmt='.2f', cmap=\"YlGnBu\")\n",
    "\n",
    "plt.title('Confusion Matrix')\n",
    "plt.ylabel('Predicted')\n",
    "plt.xlabel('True')\n",
    "plt.show()\n",
    "\n",
    "\n",
    "fig = plt.figure()\n",
    "ax = fig.add_axes([0,0,1,1])\n",
    "label = ['Accuracy', 'Precision', 'Recall', 'F1-score']\n",
    "value = [performance_dt['accuracy'],performance_dt['precision'],performance_dt['recall'],performance_dt['f1-score']]\n",
    "ax.bar(label,value)\n",
    "plt.ylim(50,100)\n",
    "plt.show()"
   ]
  },
  {
   "cell_type": "markdown",
   "metadata": {},
   "source": [
    "## Random Forrest"
   ]
  },
  {
   "cell_type": "code",
   "execution_count": 27,
   "metadata": {},
   "outputs": [
    {
     "name": "stdout",
     "output_type": "stream",
     "text": [
      "accuracy  :  79.08596575629969\n",
      "Precision :  96.01300303167092\n",
      "Recall    :  79.08596575629969\n",
      "F1 Score  :  86.15381586342392\n"
     ]
    },
    {
     "data": {
      "image/png": "[encoded data removed]",
      "text/plain": [
       "<Figure size 432x288 with 2 Axes>"
      ]
     },
     "metadata": {
      "needs_background": "light"
     },
     "output_type": "display_data"
    },
    {
     "data": {
      "image/png": "[encoded data removed]",
      "text/plain": [
       "<Figure size 432x288 with 1 Axes>"
      ]
     },
     "metadata": {
      "needs_background": "light"
     },
     "output_type": "display_data"
    }
   ],
   "source": [
    "accuracy = 0.0\n",
    "precision = 0.0\n",
    "f_score = 0.0\n",
    "recall = 0.0\n",
    "n = 10\n",
    "v = TfidfVectorizer()\n",
    "conf_m_rf = 0\n",
    "x = df.comment_text\n",
    "y = df.isAbusive\n",
    "\n",
    "tp = 0\n",
    "fp = 0\n",
    "tn = 0\n",
    "fn = 0\n",
    "\n",
    "kf = KFold(n_splits=n)\n",
    "for train_index, test_index in kf.split(x):\n",
    "    X_train, X_test = x[train_index], x[test_index]\n",
    "    y_train, y_test = y[train_index], y[test_index]\n",
    "    \n",
    "    \n",
    "    model_rf = RandomForestClassifier(max_depth=100, random_state=0)\n",
    "\n",
    "    X_train_vector = v.fit_transform(X_train.values)\n",
    "    X_test_vector = v.transform(X_test.values)\n",
    "    \n",
    "    model_rf.fit(X_train_vector,y_train)\n",
    "    \n",
    "    y_pred = model_rf.predict(X_test_vector)\n",
    "\n",
    "    conf_m_rf = conf_m_dt + confusion_matrix(y_test, y_pred)\n",
    "    accuracy = accuracy + accuracy_score(y_test, y_pred)\n",
    "    precision = precision + precision_score(y_test, y_pred,average='weighted')\n",
    "    recall = recall + recall_score(y_test, y_pred,average='weighted')\n",
    "    f_score = f_score + f1_score(y_test, y_pred,average='weighted')\n",
    "    \n",
    "\n",
    "tp = conf_m_dt[1][1]\n",
    "tn = conf_m_dt[0][0]\n",
    "fp = conf_m_dt[0][1]\n",
    "fn = conf_m_dt[1][0]\n",
    "\n",
    "    \n",
    "accuracy  = (accuracy/n) * 100\n",
    "precision = (precision/n) * 100\n",
    "recall    = (recall/n) * 100\n",
    "f_score  = (f_score/n) * 100\n",
    "\n",
    "\n",
    "performance_rf = {\"accuracy\" : accuracy, \n",
    "                   \"precision\" : precision,\n",
    "                   \"recall\": recall,\n",
    "                   \"f1-score\" : f_score} \n",
    "\n",
    "print(\"accuracy  : \" , performance_rf['accuracy'])\n",
    "print(\"Precision : \" , performance_rf['precision'])\n",
    "print(\"Recall    : \" , performance_rf['recall'])\n",
    "print(\"F1 Score  : \" , performance_rf['f1-score'])\n",
    "\n",
    "\n",
    "\n",
    "fig = plt.figure()\n",
    "plt.clf()\n",
    "\n",
    "ax = fig.add_subplot()\n",
    "ax.set_aspect(1)\n",
    "\n",
    "cmap = sb.cubehelix_palette(light=1, as_cmap=True)\n",
    "res = sb.heatmap(conf_m_rf, annot=True, vmin=0.0, vmax=np.max(conf_m_rf), fmt='.2f', cmap=\"YlGnBu\")\n",
    "\n",
    "plt.title('Confusion Matrix')\n",
    "plt.ylabel('Predicted')\n",
    "plt.xlabel('True')\n",
    "plt.show()\n",
    "\n",
    "\n",
    "fig = plt.figure()\n",
    "ax = fig.add_axes([0,0,1,1])\n",
    "label = ['Accuracy', 'Precision', 'Recall', 'F1-score']\n",
    "value = [performance_rf['accuracy'],performance_rf['precision'],performance_rf['recall'],performance_rf['f1-score']]\n",
    "ax.bar(label,value)\n",
    "plt.ylim(50,100)\n",
    "plt.show()"
   ]
  },
  {
   "cell_type": "code",
   "execution_count": 125,
   "metadata": {},
   "outputs": [
    {
     "data": {
      "text/plain": [
       "array([1], dtype=int64)"
      ]
     },
     "execution_count": 125,
     "metadata": {},
     "output_type": "execute_result"
    }
   ],
   "source": [
    "text = [\n",
    "    'কুিত্তার বাচ্চা'\n",
    "]\n",
    "text_count = v.transform(text)\n",
    "model.predict(text_count)"
   ]
  },
  {
   "cell_type": "code",
   "execution_count": 124,
   "metadata": {},
   "outputs": [
    {
     "name": "stdout",
     "output_type": "stream",
     "text": [
      "{'accuracy': 83.09887662416072, 'precision': 96.77631849609021, 'f1-score': 88.99660800054106, 'recall': 83.09887662416072}\n",
      "{'accuracy': 79.13525360770205, 'precision': 96.51041439797154, 'f1-score': 86.46252995466963, 'recall': 79.13525360770205}\n",
      "{'accuracy': 76.11228774981743, 'precision': 96.04899192490345, 'f1-score': 82.79316522537886, 'recall': 76.11228774981743}\n",
      "{'accuracy': 75.00481090830333, 'precision': 95.41603410279056, 'f1-score': 83.48920728952447, 'recall': 75.00481090830333}\n",
      "{'accuracy': 79.08596575629969, 'precision': 96.01300303167092, 'f1-score': 86.15381586342392, 'recall': 79.08596575629969}\n"
     ]
    }
   ],
   "source": [
    "print(performance_svc)\n",
    "print(performance_logistic)\n",
    "print(performance_nb)\n",
    "print(performance_dt)\n",
    "print(performance_rf)"
   ]
  },
  {
   "cell_type": "code",
   "execution_count": 134,
   "metadata": {},
   "outputs": [
    {
     "data": {
      "image/png": "[encoded data removed]",
      "text/plain": [
       "<Figure size 432x288 with 1 Axes>"
      ]
     },
     "metadata": {
      "needs_background": "light"
     },
     "output_type": "display_data"
    }
   ],
   "source": [
    "fig = plt.figure()\n",
    "ax = fig.add_axes([0,0,1,1])\n",
    "label = ['SVC', 'Logistic', 'NB', 'DT', 'RF']\n",
    "value = [performance_svc['accuracy'],performance_logistic['accuracy'],performance_nb['accuracy'],performance_dt['accuracy'],performance_rf['accuracy']]\n",
    "ax.bar(label,value)\n",
    "plt.ylim(50,100)\n",
    "plt.show()"
   ]
  },
  {
   "cell_type": "code",
   "execution_count": 135,
   "metadata": {},
   "outputs": [
    {
     "data": {
      "image/png": "[encoded data removed]",
      "text/plain": [
       "<Figure size 432x288 with 1 Axes>"
      ]
     },
     "metadata": {
      "needs_background": "light"
     },
     "output_type": "display_data"
    }
   ],
   "source": [
    "fig = plt.figure()\n",
    "ax = fig.add_axes([0,0,1,1])\n",
    "label = ['SVC', 'Logistic', 'NB', 'DT', 'RF']\n",
    "value = [performance_svc['f1-score'],performance_logistic['f1-score'],performance_nb['f1-score'],performance_dt['f1-score'],performance_rf['f1-score']]\n",
    "ax.bar(label,value)\n",
    "plt.ylim(60,100)\n",
    "plt.show()"
   ]
  },
  {
   "cell_type": "code",
   "execution_count": null,
   "metadata": {},
   "outputs": [],
   "source": []
  }
 ],
 "metadata": {
  "kernelspec": {
   "display_name": "Python 3",
   "language": "python",
   "name": "python3"
  },
  "language_info": {
   "codemirror_mode": {
    "name": "ipython",
    "version": 3
   },
   "file_extension": ".py",
   "mimetype": "text/x-python",
   "name": "python",
   "nbconvert_exporter": "python",
   "pygments_lexer": "ipython3",
   "version": "3.8.8"
  }
 },
 "nbformat": 4,
 "nbformat_minor": 4
}
