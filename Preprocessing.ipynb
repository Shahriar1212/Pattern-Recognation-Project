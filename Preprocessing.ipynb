{
 "cells": [
  {
   "cell_type": "code",
   "execution_count": 1,
   "metadata": {},
   "outputs": [
    {
     "name": "stderr",
     "output_type": "stream",
     "text": [
      "C:\\Users\\Asus\\anaconda3\\lib\\site-packages\\gensim\\similarities\\__init__.py:15: UserWarning: The gensim.similarities.levenshtein submodule is disabled, because the optional Levenshtein package <https://pypi.org/project/python-Levenshtein/> is unavailable. Install Levenhstein (e.g. `pip install python-Levenshtein`) to suppress this warning.\n",
      "  warnings.warn(msg)\n"
     ]
    }
   ],
   "source": [
    "import pandas as pd\n",
    "import re\n",
    "from bnlp import BasicTokenizer\n",
    "from bnlp.corpus import stopwords\n",
    "from bnlp.corpus import punctuations"
   ]
  },
  {
   "cell_type": "code",
   "execution_count": 2,
   "metadata": {},
   "outputs": [],
   "source": [
    "df=pd.read_excel('updated_data.xlsx')"
   ]
  },
  {
   "cell_type": "code",
   "execution_count": 28,
   "metadata": {},
   "outputs": [
    {
     "data": {
      "text/plain": [
       "Index(['id', 'comment_text', 'toxic', 'threat', 'obscene', 'insult', 'racism',\n",
       "       'Unnamed: 7'],\n",
       "      dtype='object')"
      ]
     },
     "execution_count": 28,
     "metadata": {},
     "output_type": "execute_result"
    }
   ],
   "source": [
    "df.columns"
   ]
  },
  {
   "cell_type": "code",
   "execution_count": 29,
   "metadata": {},
   "outputs": [
    {
     "data": {
      "text/plain": [
       "Index(['comment_text', 'toxic', 'threat', 'obscene', 'insult', 'racism'], dtype='object')"
      ]
     },
     "execution_count": 29,
     "metadata": {},
     "output_type": "execute_result"
    }
   ],
   "source": [
    "df.drop('id', axis=1, inplace = True)\n",
    "df.drop('Unnamed: 7', axis=1, inplace = True)\n",
    "df.columns"
   ]
  },
  {
   "cell_type": "code",
   "execution_count": 30,
   "metadata": {},
   "outputs": [
    {
     "name": "stdout",
     "output_type": "stream",
     "text": [
      "Length of dataset before droping Nan value 10219\n",
      "Length of dataset after droping Nan value 10218\n"
     ]
    }
   ],
   "source": [
    "print(\"Length of dataset before droping Nan value\" ,len(df))\n",
    "df. dropna(inplace=True)\n",
    "print(\"Length of dataset after droping Nan value\" ,len(df))"
   ]
  },
  {
   "cell_type": "code",
   "execution_count": 31,
   "metadata": {},
   "outputs": [],
   "source": [
    "df['isAbusive'] = 0\n",
    "\n",
    "a = 0\n",
    "for i, row in df.iterrows():\n",
    "    if ((row['toxic'] == 1) | (row['threat'] == 1) | (row['obscene'] == 1) | (row['insult'] == 1) | (row['racism'] == 1)):\n",
    "        a = 1\n",
    "    else:\n",
    "        a = 0\n",
    "    df.at[i,'isAbusive'] = a"
   ]
  },
  {
   "cell_type": "code",
   "execution_count": 3,
   "metadata": {},
   "outputs": [],
   "source": [
    "# removing mentions, links, tags\n",
    "\n",
    "def removing_mentions(text):\n",
    "    text = re.sub(r'@[A-Za-z0-9]+', '', text)     # removing @mentions\n",
    "    text = re.sub(r'@[A-Za-zA-Z0-9]+', '', text)  # removing @mentions \n",
    "    text = re.sub(r'@[A-Za-z]+', '', text)        # removing @mentions\n",
    "    text = re.sub(r'@[-)]+', '', text)            # removing @mentions\n",
    "\n",
    "    return text\n",
    "\n",
    "def removeing_links(text):\n",
    "    text = re.sub(r'https?\\/\\/\\S+', '', text)     # removing the hyper link\n",
    "    text = re.sub(r'http?\\/\\/\\S+', '', text)     # removing the hyper link\n",
    "    \n",
    "    return text\n",
    "\n",
    "def removing_tags(text):\n",
    "    text = re.sub(r'#', '', text )              # removing '#' sign\n",
    "    text = re.sub(r'RT[\\s]+', '', text)         # removing RT\n",
    "    text = re.sub(r'&[a-z;]+', '', text)        # removing '&gt;'\n",
    "    \n",
    "    return text"
   ]
  },
  {
   "cell_type": "code",
   "execution_count": 4,
   "metadata": {},
   "outputs": [],
   "source": [
    "# removing stopwords\n",
    "\n",
    "def remove_stopwords(text):\n",
    "    tokenizer = BasicTokenizer()\n",
    "    words = tokenizer.tokenize(text)\n",
    "    filtered_words = [w for w in words if not w in stopwords]\n",
    "\n",
    "    str = \" \"\n",
    "    return str.join(filtered_words)"
   ]
  },
  {
   "cell_type": "code",
   "execution_count": 7,
   "metadata": {},
   "outputs": [
    {
     "name": "stdout",
     "output_type": "stream",
     "text": [
      "Some Bangla Stopwords...\n",
      "['অবশ্য', 'অর্থাত', 'আই', 'আগামী', 'আগে', 'আগেই', 'আছে', 'আজ', 'আদ্যভাগে', 'আপনার']\n"
     ]
    }
   ],
   "source": [
    "print(\"Some Bangla Stopwords...\")\n",
    "print(stopwords[10:20])"
   ]
  },
  {
   "cell_type": "code",
   "execution_count": 10,
   "metadata": {},
   "outputs": [],
   "source": [
    "#removing punctuation\n",
    "\n",
    "def remove_punctuations(text):\n",
    "    tokenizer = BasicTokenizer()\n",
    "    words = tokenizer.tokenize(text)\n",
    "    punct_list = tokenizer.tokenize(punctuations)\n",
    "    filtered_words = [w for w in words if not w in punct_list]\n",
    "    \n",
    "    str = \" \"\n",
    "    return str.join(filtered_words)"
   ]
  },
  {
   "cell_type": "code",
   "execution_count": 14,
   "metadata": {},
   "outputs": [
    {
     "name": "stdout",
     "output_type": "stream",
     "text": [
      "some Punctuations...\n",
      "['!', '\"', '#', '$', '%', '&', \"'\", '(', ')', '*', '+', ',', '-', '.', '/', ':', ';', '<', '=', '>', '?', '@', '[', '\\\\', ']', '^', '_', '`', '{', '|', '}', '~', '।', 'ঃ']\n"
     ]
    }
   ],
   "source": [
    "print(\"some Punctuations...\")\n",
    "print(BasicTokenizer().tokenize(punctuations))"
   ]
  },
  {
   "cell_type": "code",
   "execution_count": null,
   "metadata": {},
   "outputs": [],
   "source": [
    "df['comment_text'] = df['comment_text'].apply(removing_mentions)\n",
    "df['comment_text'] = df['comment_text'].apply(removeing_links)\n",
    "df['comment_text'] = df['comment_text'].apply(removing_tags)\n",
    "df['comment_text'] = df['comment_text'].apply(remove_stopwords)\n",
    "df['comment_text'] = df['comment_text'].apply(remove_punctuations)"
   ]
  },
  {
   "cell_type": "code",
   "execution_count": 18,
   "metadata": {},
   "outputs": [],
   "source": [
    "text = 'আমার সোনার বাংলা, আমি তোমায় ভালোবাসি'"
   ]
  },
  {
   "cell_type": "code",
   "execution_count": 17,
   "metadata": {},
   "outputs": [
    {
     "data": {
      "text/plain": [
       "'সোনার বাংলা তোমায় ভালোবাসি'"
      ]
     },
     "execution_count": 17,
     "metadata": {},
     "output_type": "execute_result"
    }
   ],
   "source": [
    "remove_stopwords(text)"
   ]
  },
  {
   "cell_type": "code",
   "execution_count": null,
   "metadata": {},
   "outputs": [],
   "source": []
  },
  {
   "cell_type": "code",
   "execution_count": null,
   "metadata": {},
   "outputs": [],
   "source": []
  },
  {
   "cell_type": "code",
   "execution_count": null,
   "metadata": {},
   "outputs": [],
   "source": [
    "df.to_excel('updated_data.excel')"
   ]
  }
 ],
 "metadata": {
  "kernelspec": {
   "display_name": "Python 3",
   "language": "python",
   "name": "python3"
  },
  "language_info": {
   "codemirror_mode": {
    "name": "ipython",
    "version": 3
   },
   "file_extension": ".py",
   "mimetype": "text/x-python",
   "name": "python",
   "nbconvert_exporter": "python",
   "pygments_lexer": "ipython3",
   "version": "3.8.5"
  }
 },
 "nbformat": 4,
 "nbformat_minor": 4
}
